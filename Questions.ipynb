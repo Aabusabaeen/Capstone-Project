{
 "cells": [
  {
   "cell_type": "code",
   "execution_count": null,
   "metadata": {},
   "outputs": [],
   "source": []
  },
  {
   "cell_type": "markdown",
   "metadata": {},
   "source": [
    "1-\tHow much does the oil exports add to the Saudi economy?\n"
   ]
  },
  {
   "cell_type": "code",
   "execution_count": null,
   "metadata": {},
   "outputs": [],
   "source": [
    "# sheet 1.1: non-oil exports - oil exports\n",
    "# also\n",
    "# Exports_commodityGroup['value in Millions'].sum() - tot_oil_ex_20['value in Millions'].sum()"
   ]
  },
  {
   "cell_type": "markdown",
   "metadata": {},
   "source": [
    "2-\tAre the non-oil exports increasing? "
   ]
  },
  {
   "cell_type": "code",
   "execution_count": null,
   "metadata": {},
   "outputs": [],
   "source": [
    "# plot sheet 1.1, non-oil exports"
   ]
  },
  {
   "cell_type": "markdown",
   "metadata": {},
   "source": [
    "3-\tHow much is the effect of COVID-19 on the Saudi imports & export?"
   ]
  },
  {
   "cell_type": "code",
   "execution_count": null,
   "metadata": {},
   "outputs": [],
   "source": [
    "# any big drop/decrease in 2020 compared to 2019? \n",
    "# also q1,q2,q3 from 2021"
   ]
  },
  {
   "cell_type": "markdown",
   "metadata": {},
   "source": [
    "If yes, What are the main areas that got affected? "
   ]
  },
  {
   "cell_type": "code",
   "execution_count": null,
   "metadata": {},
   "outputs": [],
   "source": []
  },
  {
   "cell_type": "markdown",
   "metadata": {},
   "source": [
    "4-\tHow much did the Saudi import & export change from 2011 to 2020?"
   ]
  },
  {
   "cell_type": "code",
   "execution_count": null,
   "metadata": {},
   "outputs": [],
   "source": [
    "# sheet 1-3, compare imports vs exports"
   ]
  },
  {
   "cell_type": "markdown",
   "metadata": {},
   "source": [
    "6-\tWhat does Saudi export the most? Such as dates, cooking oil, used cars, used clothes?"
   ]
  },
  {
   "cell_type": "code",
   "execution_count": null,
   "metadata": {},
   "outputs": [],
   "source": [
    "# sheet 1.2\n",
    "# sheet 3-7\n"
   ]
  },
  {
   "cell_type": "markdown",
   "metadata": {},
   "source": [
    "7-\tWhat does Saudi import the most? Such as new cars, new clothes, medicine, medical equipment (Masks during covid), etc."
   ]
  },
  {
   "cell_type": "code",
   "execution_count": null,
   "metadata": {},
   "outputs": [],
   "source": [
    "# sheet 3-4\n",
    "# sheet 2-1"
   ]
  },
  {
   "cell_type": "markdown",
   "metadata": {},
   "source": [
    "8-\tHow much has Saudi been importing & exporting in petrochemicals, medicine, car parts, and vegetables?"
   ]
  },
  {
   "cell_type": "code",
   "execution_count": null,
   "metadata": {},
   "outputs": [],
   "source": [
    "# umm, answer after answering above questions"
   ]
  },
  {
   "cell_type": "markdown",
   "metadata": {},
   "source": [
    "9-\tWhat are the things that Saudi is planning to produce to lower their dependency on importing? military equipment, cars (electric), etc. "
   ]
  }
 ],
 "metadata": {
  "language_info": {
   "name": "python"
  },
  "orig_nbformat": 4
 },
 "nbformat": 4,
 "nbformat_minor": 2
}
