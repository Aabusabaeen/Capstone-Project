{
 "cells": [
  {
   "cell_type": "code",
   "execution_count": 1,
   "metadata": {},
   "outputs": [],
   "source": [
    "import numpy as np \n",
    "import pandas as pd\n",
    "import matplotlib.pyplot as plt\n",
    "import seaborn as sns\n",
    "import plotnine\n",
    "from plotnine.data import economics\n",
    "from plotnine import ggplot, aes, geom_line, geom_bar, ggtitle"
   ]
  },
  {
   "cell_type": "markdown",
   "metadata": {},
   "source": [
    "1-\tHow much does the oil exports add to the Saudi economy?\n",
    "- Oil exports from 2011 - 2020 is %81 of total exports (SAR 8,521,187 x m).\n",
    "- Non-Oil exports from 2011 - 2020 is (SAR 2,017,061 x m)\n",
    "- A big drop of oil exports after 2014"
   ]
  },
  {
   "cell_type": "code",
   "execution_count": 2,
   "metadata": {},
   "outputs": [],
   "source": [
    "# sheet 1.1: non-oil exports - oil exports\n",
    "Trading_Oil_non_Oil= pd.read_csv('Cleaned_data/Trading20_1-1_clean.csv')\n",
    "Trading_Oil_non_Oil.drop('Unnamed: 0', axis=1, inplace=True)\n",
    "# also\n",
    "# Exports_commodityGroup['value in Millions'].sum() - tot_oil_ex_20['value in Millions'].sum()"
   ]
  },
  {
   "cell_type": "code",
   "execution_count": 3,
   "metadata": {},
   "outputs": [
    {
     "data": {
      "text/html": [
       "<div>\n",
       "<style scoped>\n",
       "    .dataframe tbody tr th:only-of-type {\n",
       "        vertical-align: middle;\n",
       "    }\n",
       "\n",
       "    .dataframe tbody tr th {\n",
       "        vertical-align: top;\n",
       "    }\n",
       "\n",
       "    .dataframe thead th {\n",
       "        text-align: right;\n",
       "    }\n",
       "</style>\n",
       "<table border=\"1\" class=\"dataframe\">\n",
       "  <thead>\n",
       "    <tr style=\"text-align: right;\">\n",
       "      <th></th>\n",
       "      <th>Oil Exports Value(Millions SAR)</th>\n",
       "    </tr>\n",
       "  </thead>\n",
       "  <tbody>\n",
       "    <tr>\n",
       "      <th>0</th>\n",
       "      <td>1191052.099</td>\n",
       "    </tr>\n",
       "    <tr>\n",
       "      <th>1</th>\n",
       "      <td>1265550.610</td>\n",
       "    </tr>\n",
       "    <tr>\n",
       "      <th>2</th>\n",
       "      <td>1207080.084</td>\n",
       "    </tr>\n",
       "    <tr>\n",
       "      <th>3</th>\n",
       "      <td>1067091.642</td>\n",
       "    </tr>\n",
       "    <tr>\n",
       "      <th>4</th>\n",
       "      <td>573411.985</td>\n",
       "    </tr>\n",
       "    <tr>\n",
       "      <th>5</th>\n",
       "      <td>510729.487</td>\n",
       "    </tr>\n",
       "    <tr>\n",
       "      <th>6</th>\n",
       "      <td>638402.283</td>\n",
       "    </tr>\n",
       "    <tr>\n",
       "      <th>7</th>\n",
       "      <td>868442.402</td>\n",
       "    </tr>\n",
       "    <tr>\n",
       "      <th>8</th>\n",
       "      <td>751828.129</td>\n",
       "    </tr>\n",
       "    <tr>\n",
       "      <th>9</th>\n",
       "      <td>447599.225</td>\n",
       "    </tr>\n",
       "    <tr>\n",
       "      <th>10</th>\n",
       "      <td>772750.031</td>\n",
       "    </tr>\n",
       "  </tbody>\n",
       "</table>\n",
       "</div>"
      ],
      "text/plain": [
       "    Oil Exports Value(Millions SAR)\n",
       "0                       1191052.099\n",
       "1                       1265550.610\n",
       "2                       1207080.084\n",
       "3                       1067091.642\n",
       "4                        573411.985\n",
       "5                        510729.487\n",
       "6                        638402.283\n",
       "7                        868442.402\n",
       "8                        751828.129\n",
       "9                        447599.225\n",
       "10                       772750.031"
      ]
     },
     "execution_count": 3,
     "metadata": {},
     "output_type": "execute_result"
    }
   ],
   "source": [
    "Trading_Oil_non_Oil['Oil Exports Value(Millions SAR)'].round(3).to_frame()"
   ]
  },
  {
   "cell_type": "code",
   "execution_count": 5,
   "metadata": {},
   "outputs": [],
   "source": [
    "Trading_Oil_non_Oil['Total exports'] = Trading_Oil_non_Oil['Oil Exports Value(Millions SAR)'] + Trading_Oil_non_Oil['Non-oil Exports Value(millions SAR)']\n"
   ]
  },
  {
   "cell_type": "code",
   "execution_count": 10,
   "metadata": {},
   "outputs": [
    {
     "data": {
      "text/html": [
       "<div>\n",
       "<style scoped>\n",
       "    .dataframe tbody tr th:only-of-type {\n",
       "        vertical-align: middle;\n",
       "    }\n",
       "\n",
       "    .dataframe tbody tr th {\n",
       "        vertical-align: top;\n",
       "    }\n",
       "\n",
       "    .dataframe thead th {\n",
       "        text-align: right;\n",
       "    }\n",
       "</style>\n",
       "<table border=\"1\" class=\"dataframe\">\n",
       "  <thead>\n",
       "    <tr style=\"text-align: right;\">\n",
       "      <th></th>\n",
       "      <th>Year</th>\n",
       "      <th>Oil Exports Value(Millions SAR)</th>\n",
       "      <th>Oil Percentage of Total Exports</th>\n",
       "      <th>Non-oil Exports Value(millions SAR)</th>\n",
       "      <th>Non-oil Percentage of Total Exports</th>\n",
       "      <th>Total exports</th>\n",
       "    </tr>\n",
       "  </thead>\n",
       "  <tbody>\n",
       "    <tr>\n",
       "      <th>0</th>\n",
       "      <td>2011.0</td>\n",
       "      <td>1191052.099</td>\n",
       "      <td>87.089</td>\n",
       "      <td>176567.732</td>\n",
       "      <td>12.911</td>\n",
       "      <td>1367619.831</td>\n",
       "    </tr>\n",
       "    <tr>\n",
       "      <th>1</th>\n",
       "      <td>2012.0</td>\n",
       "      <td>1265550.610</td>\n",
       "      <td>86.890</td>\n",
       "      <td>190951.554</td>\n",
       "      <td>13.110</td>\n",
       "      <td>1456502.163</td>\n",
       "    </tr>\n",
       "    <tr>\n",
       "      <th>2</th>\n",
       "      <td>2013.0</td>\n",
       "      <td>1207080.084</td>\n",
       "      <td>85.637</td>\n",
       "      <td>202443.213</td>\n",
       "      <td>14.363</td>\n",
       "      <td>1409523.297</td>\n",
       "    </tr>\n",
       "    <tr>\n",
       "      <th>3</th>\n",
       "      <td>2014.0</td>\n",
       "      <td>1067091.642</td>\n",
       "      <td>83.099</td>\n",
       "      <td>217029.904</td>\n",
       "      <td>16.901</td>\n",
       "      <td>1284121.546</td>\n",
       "    </tr>\n",
       "    <tr>\n",
       "      <th>4</th>\n",
       "      <td>2015.0</td>\n",
       "      <td>573411.985</td>\n",
       "      <td>75.121</td>\n",
       "      <td>189901.078</td>\n",
       "      <td>24.879</td>\n",
       "      <td>763313.063</td>\n",
       "    </tr>\n",
       "    <tr>\n",
       "      <th>5</th>\n",
       "      <td>2016.0</td>\n",
       "      <td>510729.487</td>\n",
       "      <td>74.188</td>\n",
       "      <td>177693.532</td>\n",
       "      <td>25.812</td>\n",
       "      <td>688423.019</td>\n",
       "    </tr>\n",
       "    <tr>\n",
       "      <th>6</th>\n",
       "      <td>2017.0</td>\n",
       "      <td>638402.283</td>\n",
       "      <td>76.742</td>\n",
       "      <td>193479.004</td>\n",
       "      <td>23.258</td>\n",
       "      <td>831881.288</td>\n",
       "    </tr>\n",
       "    <tr>\n",
       "      <th>7</th>\n",
       "      <td>2018.0</td>\n",
       "      <td>868442.402</td>\n",
       "      <td>78.670</td>\n",
       "      <td>235458.084</td>\n",
       "      <td>21.330</td>\n",
       "      <td>1103900.486</td>\n",
       "    </tr>\n",
       "    <tr>\n",
       "      <th>8</th>\n",
       "      <td>2019.0</td>\n",
       "      <td>751828.129</td>\n",
       "      <td>76.638</td>\n",
       "      <td>229184.235</td>\n",
       "      <td>23.362</td>\n",
       "      <td>981012.363</td>\n",
       "    </tr>\n",
       "    <tr>\n",
       "      <th>9</th>\n",
       "      <td>2020.0</td>\n",
       "      <td>447599.225</td>\n",
       "      <td>68.655</td>\n",
       "      <td>204352.737</td>\n",
       "      <td>31.345</td>\n",
       "      <td>651951.963</td>\n",
       "    </tr>\n",
       "    <tr>\n",
       "      <th>10</th>\n",
       "      <td>2021.0</td>\n",
       "      <td>772750.031</td>\n",
       "      <td>64.430</td>\n",
       "      <td>274900.300</td>\n",
       "      <td>35.570</td>\n",
       "      <td>1047650.331</td>\n",
       "    </tr>\n",
       "  </tbody>\n",
       "</table>\n",
       "</div>"
      ],
      "text/plain": [
       "      Year  Oil Exports Value(Millions SAR)  Oil Percentage of Total Exports  \\\n",
       "0   2011.0                      1191052.099                           87.089   \n",
       "1   2012.0                      1265550.610                           86.890   \n",
       "2   2013.0                      1207080.084                           85.637   \n",
       "3   2014.0                      1067091.642                           83.099   \n",
       "4   2015.0                       573411.985                           75.121   \n",
       "5   2016.0                       510729.487                           74.188   \n",
       "6   2017.0                       638402.283                           76.742   \n",
       "7   2018.0                       868442.402                           78.670   \n",
       "8   2019.0                       751828.129                           76.638   \n",
       "9   2020.0                       447599.225                           68.655   \n",
       "10  2021.0                       772750.031                           64.430   \n",
       "\n",
       "    Non-oil Exports Value(millions SAR)  Non-oil Percentage of Total Exports  \\\n",
       "0                            176567.732                               12.911   \n",
       "1                            190951.554                               13.110   \n",
       "2                            202443.213                               14.363   \n",
       "3                            217029.904                               16.901   \n",
       "4                            189901.078                               24.879   \n",
       "5                            177693.532                               25.812   \n",
       "6                            193479.004                               23.258   \n",
       "7                            235458.084                               21.330   \n",
       "8                            229184.235                               23.362   \n",
       "9                            204352.737                               31.345   \n",
       "10                           274900.300                               35.570   \n",
       "\n",
       "    Total exports  \n",
       "0     1367619.831  \n",
       "1     1456502.163  \n",
       "2     1409523.297  \n",
       "3     1284121.546  \n",
       "4      763313.063  \n",
       "5      688423.019  \n",
       "6      831881.288  \n",
       "7     1103900.486  \n",
       "8      981012.363  \n",
       "9      651951.963  \n",
       "10    1047650.331  "
      ]
     },
     "execution_count": 10,
     "metadata": {},
     "output_type": "execute_result"
    }
   ],
   "source": [
    "Trading_Oil_non_Oil.round(3)"
   ]
  },
  {
   "cell_type": "code",
   "execution_count": 11,
   "metadata": {},
   "outputs": [],
   "source": [
    "Trading_Oil_non_Oil.to_csv('Cleaned_data/Trading20_1-1_clean.csv')"
   ]
  },
  {
   "cell_type": "markdown",
   "metadata": {},
   "source": [
    "### Overall value of exports has been decreasing after 2014"
   ]
  },
  {
   "cell_type": "code",
   "execution_count": 7,
   "metadata": {},
   "outputs": [
    {
     "data": {
      "image/png": "[encoded data removed]",
      "text/plain": [
       "<Figure size 504x432 with 1 Axes>"
      ]
     },
     "metadata": {},
     "output_type": "display_data"
    },
    {
     "data": {
      "text/plain": [
       "<Figure size 432x288 with 0 Axes>"
      ]
     },
     "metadata": {},
     "output_type": "display_data"
    }
   ],
   "source": [
    "plt.style.use('seaborn-darkgrid')\n",
    "plt.figure(figsize = [7,6])\n",
    "plt.scatter(Trading_Oil_non_Oil['Year'], Trading_Oil_non_Oil['Oil Exports Value(Millions SAR)'])\n",
    "plt.scatter(Trading_Oil_non_Oil['Year'], Trading_Oil_non_Oil['Total exports'])\n",
    "plt.scatter(Trading_Oil_non_Oil['Year'], Trading_Oil_non_Oil['Non-oil Exports Value(millions SAR)'])\n",
    "plt.plot(Trading_Oil_non_Oil[['Year']], Trading_Oil_non_Oil[['Total exports']], c='blue', label='Total exports')\n",
    "plt.plot(Trading_Oil_non_Oil[['Year']], Trading_Oil_non_Oil[['Oil Exports Value(Millions SAR)']], c='black', label='Oil Exports')\n",
    "plt.plot(Trading_Oil_non_Oil[['Year']], Trading_Oil_non_Oil[['Non-oil Exports Value(millions SAR)']], c='red', label='Non-oil Exports')\n",
    "plt.xlabel('Year',fontsize= 15)\n",
    "plt.xticks(fontsize= 13)\n",
    "plt.yticks(fontsize= 13)\n",
    "plt.ylabel('Value in Millions SAR', fontsize= 15)\n",
    "plt.legend(fontsize= 12)\n",
    "plt.title(\"Summary of exports from 2011 - 2021\",fontsize= 17 )\n",
    "plt.show()\n",
    "plt.savefig('Plots/Summary of exports from 2011 - 2021.png')"
   ]
  },
  {
   "cell_type": "code",
   "execution_count": 200,
   "metadata": {},
   "outputs": [
    {
     "data": {
      "text/html": [
       "<div>\n",
       "<style scoped>\n",
       "    .dataframe tbody tr th:only-of-type {\n",
       "        vertical-align: middle;\n",
       "    }\n",
       "\n",
       "    .dataframe tbody tr th {\n",
       "        vertical-align: top;\n",
       "    }\n",
       "\n",
       "    .dataframe thead th {\n",
       "        text-align: right;\n",
       "    }\n",
       "</style>\n",
       "<table border=\"1\" class=\"dataframe\">\n",
       "  <thead>\n",
       "    <tr style=\"text-align: right;\">\n",
       "      <th></th>\n",
       "      <th>Total exports</th>\n",
       "    </tr>\n",
       "  </thead>\n",
       "  <tbody>\n",
       "    <tr>\n",
       "      <th>0</th>\n",
       "      <td>1367619.831</td>\n",
       "    </tr>\n",
       "    <tr>\n",
       "      <th>1</th>\n",
       "      <td>1456502.163</td>\n",
       "    </tr>\n",
       "    <tr>\n",
       "      <th>2</th>\n",
       "      <td>1409523.297</td>\n",
       "    </tr>\n",
       "    <tr>\n",
       "      <th>3</th>\n",
       "      <td>1284121.546</td>\n",
       "    </tr>\n",
       "    <tr>\n",
       "      <th>4</th>\n",
       "      <td>763313.063</td>\n",
       "    </tr>\n",
       "    <tr>\n",
       "      <th>5</th>\n",
       "      <td>688423.019</td>\n",
       "    </tr>\n",
       "    <tr>\n",
       "      <th>6</th>\n",
       "      <td>831881.288</td>\n",
       "    </tr>\n",
       "    <tr>\n",
       "      <th>7</th>\n",
       "      <td>1103900.486</td>\n",
       "    </tr>\n",
       "    <tr>\n",
       "      <th>8</th>\n",
       "      <td>981012.363</td>\n",
       "    </tr>\n",
       "    <tr>\n",
       "      <th>9</th>\n",
       "      <td>651951.963</td>\n",
       "    </tr>\n",
       "  </tbody>\n",
       "</table>\n",
       "</div>"
      ],
      "text/plain": [
       "   Total exports\n",
       "0    1367619.831\n",
       "1    1456502.163\n",
       "2    1409523.297\n",
       "3    1284121.546\n",
       "4     763313.063\n",
       "5     688423.019\n",
       "6     831881.288\n",
       "7    1103900.486\n",
       "8     981012.363\n",
       "9     651951.963"
      ]
     },
     "execution_count": 200,
     "metadata": {},
     "output_type": "execute_result"
    }
   ],
   "source": [
    "\n",
    "Trading_Oil_non_Oil['Total exports']= (Trading_Oil_non_Oil['Oil Exports Value(Millions SAR)'] + Trading_Oil_non_Oil['Non-oil Exports Value(millions SAR)']).round(3)\n",
    "Trading_Oil_non_Oil['Total exports'].to_frame()"
   ]
  },
  {
   "cell_type": "code",
   "execution_count": 232,
   "metadata": {},
   "outputs": [
    {
     "data": {
      "text/plain": [
       "1632964.326"
      ]
     },
     "execution_count": 232,
     "metadata": {},
     "output_type": "execute_result"
    }
   ],
   "source": [
    "651951.963+981012.363"
   ]
  },
  {
   "cell_type": "code",
   "execution_count": 214,
   "metadata": {},
   "outputs": [
    {
     "data": {
      "text/html": [
       "<div>\n",
       "<style scoped>\n",
       "    .dataframe tbody tr th:only-of-type {\n",
       "        vertical-align: middle;\n",
       "    }\n",
       "\n",
       "    .dataframe tbody tr th {\n",
       "        vertical-align: top;\n",
       "    }\n",
       "\n",
       "    .dataframe thead th {\n",
       "        text-align: right;\n",
       "    }\n",
       "</style>\n",
       "<table border=\"1\" class=\"dataframe\">\n",
       "  <thead>\n",
       "    <tr style=\"text-align: right;\">\n",
       "      <th></th>\n",
       "      <th>0</th>\n",
       "      <th>1</th>\n",
       "      <th>2</th>\n",
       "      <th>3</th>\n",
       "      <th>4</th>\n",
       "      <th>5</th>\n",
       "      <th>6</th>\n",
       "      <th>7</th>\n",
       "      <th>8</th>\n",
       "      <th>9</th>\n",
       "    </tr>\n",
       "  </thead>\n",
       "  <tbody>\n",
       "    <tr>\n",
       "      <th>Year</th>\n",
       "      <td>2011.000</td>\n",
       "      <td>2012.000</td>\n",
       "      <td>2013.000</td>\n",
       "      <td>2014.000</td>\n",
       "      <td>2015.000</td>\n",
       "      <td>2016.000</td>\n",
       "      <td>2017.000</td>\n",
       "      <td>2018.000</td>\n",
       "      <td>2019.000</td>\n",
       "      <td>2020.000</td>\n",
       "    </tr>\n",
       "    <tr>\n",
       "      <th>Total exports</th>\n",
       "      <td>1367619.831</td>\n",
       "      <td>1456502.163</td>\n",
       "      <td>1409523.297</td>\n",
       "      <td>1284121.546</td>\n",
       "      <td>763313.063</td>\n",
       "      <td>688423.019</td>\n",
       "      <td>831881.288</td>\n",
       "      <td>1103900.486</td>\n",
       "      <td>981012.363</td>\n",
       "      <td>651951.963</td>\n",
       "    </tr>\n",
       "  </tbody>\n",
       "</table>\n",
       "</div>"
      ],
      "text/plain": [
       "                         0            1            2            3           4  \\\n",
       "Year              2011.000     2012.000     2013.000     2014.000    2015.000   \n",
       "Total exports  1367619.831  1456502.163  1409523.297  1284121.546  763313.063   \n",
       "\n",
       "                        5           6            7           8           9  \n",
       "Year             2016.000    2017.000     2018.000    2019.000    2020.000  \n",
       "Total exports  688423.019  831881.288  1103900.486  981012.363  651951.963  "
      ]
     },
     "execution_count": 214,
     "metadata": {},
     "output_type": "execute_result"
    }
   ],
   "source": [
    "Trading = Trading_Oil_non_Oil['Year'], Trading_Oil_non_Oil['Total exports']\n",
    "Trading1 = pd.DataFrame(Trading)\n",
    "Trading1"
   ]
  },
  {
   "cell_type": "code",
   "execution_count": 191,
   "metadata": {},
   "outputs": [
    {
     "data": {
      "text/html": [
       "<div>\n",
       "<style scoped>\n",
       "    .dataframe tbody tr th:only-of-type {\n",
       "        vertical-align: middle;\n",
       "    }\n",
       "\n",
       "    .dataframe tbody tr th {\n",
       "        vertical-align: top;\n",
       "    }\n",
       "\n",
       "    .dataframe thead th {\n",
       "        text-align: right;\n",
       "    }\n",
       "</style>\n",
       "<table border=\"1\" class=\"dataframe\">\n",
       "  <thead>\n",
       "    <tr style=\"text-align: right;\">\n",
       "      <th></th>\n",
       "      <th></th>\n",
       "      <th>max</th>\n",
       "    </tr>\n",
       "    <tr>\n",
       "      <th>Year</th>\n",
       "      <th>Total exports</th>\n",
       "      <th></th>\n",
       "    </tr>\n",
       "  </thead>\n",
       "  <tbody>\n",
       "    <tr>\n",
       "      <th>2011</th>\n",
       "      <th>1367619.831</th>\n",
       "      <td>1367619.83</td>\n",
       "    </tr>\n",
       "    <tr>\n",
       "      <th>2012</th>\n",
       "      <th>1456502.163</th>\n",
       "      <td>1456502.16</td>\n",
       "    </tr>\n",
       "    <tr>\n",
       "      <th>2013</th>\n",
       "      <th>1409523.297</th>\n",
       "      <td>1409523.30</td>\n",
       "    </tr>\n",
       "    <tr>\n",
       "      <th>2014</th>\n",
       "      <th>1284121.546</th>\n",
       "      <td>1284121.55</td>\n",
       "    </tr>\n",
       "    <tr>\n",
       "      <th>2015</th>\n",
       "      <th>763313.063</th>\n",
       "      <td>763313.06</td>\n",
       "    </tr>\n",
       "    <tr>\n",
       "      <th>2016</th>\n",
       "      <th>688423.019</th>\n",
       "      <td>688423.02</td>\n",
       "    </tr>\n",
       "    <tr>\n",
       "      <th>2017</th>\n",
       "      <th>831881.288</th>\n",
       "      <td>831881.29</td>\n",
       "    </tr>\n",
       "    <tr>\n",
       "      <th>2018</th>\n",
       "      <th>1103900.486</th>\n",
       "      <td>1103900.49</td>\n",
       "    </tr>\n",
       "    <tr>\n",
       "      <th>2019</th>\n",
       "      <th>981012.363</th>\n",
       "      <td>981012.36</td>\n",
       "    </tr>\n",
       "    <tr>\n",
       "      <th>2020</th>\n",
       "      <th>651951.963</th>\n",
       "      <td>651951.96</td>\n",
       "    </tr>\n",
       "  </tbody>\n",
       "</table>\n",
       "</div>"
      ],
      "text/plain": [
       "                           max\n",
       "Year Total exports            \n",
       "2011 1367619.831    1367619.83\n",
       "2012 1456502.163    1456502.16\n",
       "2013 1409523.297    1409523.30\n",
       "2014 1284121.546    1284121.55\n",
       "2015 763313.063      763313.06\n",
       "2016 688423.019      688423.02\n",
       "2017 831881.288      831881.29\n",
       "2018 1103900.486    1103900.49\n",
       "2019 981012.363      981012.36\n",
       "2020 651951.963      651951.96"
      ]
     },
     "execution_count": 191,
     "metadata": {},
     "output_type": "execute_result"
    }
   ],
   "source": [
    "\n",
    "Trading_Oil_non_Oil.groupby(['Year', 'Total exports'])['Total exports'].aggregate(['max']).round(2)"
   ]
  },
  {
   "cell_type": "markdown",
   "metadata": {},
   "source": [
    "Total value of oil exports in millions SAR:"
   ]
  },
  {
   "cell_type": "code",
   "execution_count": 184,
   "metadata": {},
   "outputs": [
    {
     "data": {
      "text/plain": [
       "8521187.946"
      ]
     },
     "execution_count": 184,
     "metadata": {},
     "output_type": "execute_result"
    }
   ],
   "source": [
    "\n",
    "(Trading_Oil_non_Oil['Oil Exports Value(Millions SAR)'].sum()).round(3)"
   ]
  },
  {
   "cell_type": "markdown",
   "metadata": {},
   "source": [
    "Value of overall oil exports percentage: "
   ]
  },
  {
   "cell_type": "code",
   "execution_count": 183,
   "metadata": {},
   "outputs": [
    {
     "data": {
      "text/plain": [
       "0.809"
      ]
     },
     "execution_count": 183,
     "metadata": {},
     "output_type": "execute_result"
    }
   ],
   "source": [
    "\n",
    "(Trading_Oil_non_Oil['Oil Exports Value(Millions SAR)'].sum() / Trading_Oil_non_Oil['Total exports'].sum()).round(3)"
   ]
  },
  {
   "cell_type": "markdown",
   "metadata": {},
   "source": [
    "Total value of non-oil exports in millions SAR:"
   ]
  },
  {
   "cell_type": "code",
   "execution_count": 231,
   "metadata": {},
   "outputs": [
    {
     "data": {
      "text/plain": [
       "2017061.072"
      ]
     },
     "execution_count": 231,
     "metadata": {},
     "output_type": "execute_result"
    }
   ],
   "source": [
    "\n",
    "Trading_Oil_non_Oil['Non-oil Exports Value(millions SAR)'].sum().round(3)"
   ]
  },
  {
   "cell_type": "markdown",
   "metadata": {},
   "source": [
    "### Statistical summary:"
   ]
  },
  {
   "cell_type": "code",
   "execution_count": 182,
   "metadata": {},
   "outputs": [
    {
     "data": {
      "text/html": [
       "<div>\n",
       "<style scoped>\n",
       "    .dataframe tbody tr th:only-of-type {\n",
       "        vertical-align: middle;\n",
       "    }\n",
       "\n",
       "    .dataframe tbody tr th {\n",
       "        vertical-align: top;\n",
       "    }\n",
       "\n",
       "    .dataframe thead th {\n",
       "        text-align: right;\n",
       "    }\n",
       "</style>\n",
       "<table border=\"1\" class=\"dataframe\">\n",
       "  <thead>\n",
       "    <tr style=\"text-align: right;\">\n",
       "      <th></th>\n",
       "      <th>Year</th>\n",
       "      <th>Oil Exports Value(Millions SAR)</th>\n",
       "      <th>Oil Percentage of Total Exports</th>\n",
       "      <th>Non-oil Exports Value(millions SAR)</th>\n",
       "      <th>Non-oil Percentage of Total Exports</th>\n",
       "      <th>Difference in exports</th>\n",
       "      <th>Total exports</th>\n",
       "    </tr>\n",
       "  </thead>\n",
       "  <tbody>\n",
       "    <tr>\n",
       "      <th>count</th>\n",
       "      <td>10.00000</td>\n",
       "      <td>1.000000e+01</td>\n",
       "      <td>10.000000</td>\n",
       "      <td>10.000000</td>\n",
       "      <td>10.000000</td>\n",
       "      <td>1.000000e+01</td>\n",
       "      <td>1.000000e+01</td>\n",
       "    </tr>\n",
       "    <tr>\n",
       "      <th>mean</th>\n",
       "      <td>2015.50000</td>\n",
       "      <td>8.521188e+05</td>\n",
       "      <td>79.273093</td>\n",
       "      <td>201706.107168</td>\n",
       "      <td>20.726907</td>\n",
       "      <td>6.504127e+05</td>\n",
       "      <td>1.053825e+06</td>\n",
       "    </tr>\n",
       "    <tr>\n",
       "      <th>std</th>\n",
       "      <td>3.02765</td>\n",
       "      <td>3.112470e+05</td>\n",
       "      <td>6.180556</td>\n",
       "      <td>20187.609419</td>\n",
       "      <td>6.180556</td>\n",
       "      <td>3.117015e+05</td>\n",
       "      <td>3.121004e+05</td>\n",
       "    </tr>\n",
       "    <tr>\n",
       "      <th>min</th>\n",
       "      <td>2011.00000</td>\n",
       "      <td>4.475992e+05</td>\n",
       "      <td>68.655246</td>\n",
       "      <td>176567.731649</td>\n",
       "      <td>12.910586</td>\n",
       "      <td>2.432465e+05</td>\n",
       "      <td>6.519520e+05</td>\n",
       "    </tr>\n",
       "    <tr>\n",
       "      <th>25%</th>\n",
       "      <td>2013.25000</td>\n",
       "      <td>5.896596e+05</td>\n",
       "      <td>75.500598</td>\n",
       "      <td>190163.696550</td>\n",
       "      <td>14.997158</td>\n",
       "      <td>3.988640e+05</td>\n",
       "      <td>7.804551e+05</td>\n",
       "    </tr>\n",
       "    <tr>\n",
       "      <th>50%</th>\n",
       "      <td>2015.50000</td>\n",
       "      <td>8.101353e+05</td>\n",
       "      <td>77.706173</td>\n",
       "      <td>197961.108715</td>\n",
       "      <td>22.293827</td>\n",
       "      <td>5.778141e+05</td>\n",
       "      <td>1.042456e+06</td>\n",
       "    </tr>\n",
       "    <tr>\n",
       "      <th>75%</th>\n",
       "      <td>2017.75000</td>\n",
       "      <td>1.160062e+06</td>\n",
       "      <td>85.002842</td>\n",
       "      <td>213860.612043</td>\n",
       "      <td>24.499402</td>\n",
       "      <td>9.659931e+05</td>\n",
       "      <td>1.346745e+06</td>\n",
       "    </tr>\n",
       "    <tr>\n",
       "      <th>max</th>\n",
       "      <td>2020.00000</td>\n",
       "      <td>1.265551e+06</td>\n",
       "      <td>87.089414</td>\n",
       "      <td>235458.083665</td>\n",
       "      <td>31.344754</td>\n",
       "      <td>1.074599e+06</td>\n",
       "      <td>1.456502e+06</td>\n",
       "    </tr>\n",
       "  </tbody>\n",
       "</table>\n",
       "</div>"
      ],
      "text/plain": [
       "             Year  Oil Exports Value(Millions SAR)  \\\n",
       "count    10.00000                     1.000000e+01   \n",
       "mean   2015.50000                     8.521188e+05   \n",
       "std       3.02765                     3.112470e+05   \n",
       "min    2011.00000                     4.475992e+05   \n",
       "25%    2013.25000                     5.896596e+05   \n",
       "50%    2015.50000                     8.101353e+05   \n",
       "75%    2017.75000                     1.160062e+06   \n",
       "max    2020.00000                     1.265551e+06   \n",
       "\n",
       "       Oil Percentage of Total Exports  Non-oil Exports Value(millions SAR)  \\\n",
       "count                        10.000000                            10.000000   \n",
       "mean                         79.273093                        201706.107168   \n",
       "std                           6.180556                         20187.609419   \n",
       "min                          68.655246                        176567.731649   \n",
       "25%                          75.500598                        190163.696550   \n",
       "50%                          77.706173                        197961.108715   \n",
       "75%                          85.002842                        213860.612043   \n",
       "max                          87.089414                        235458.083665   \n",
       "\n",
       "       Non-oil Percentage of Total Exports  Difference in exports  \\\n",
       "count                            10.000000           1.000000e+01   \n",
       "mean                             20.726907           6.504127e+05   \n",
       "std                               6.180556           3.117015e+05   \n",
       "min                              12.910586           2.432465e+05   \n",
       "25%                              14.997158           3.988640e+05   \n",
       "50%                              22.293827           5.778141e+05   \n",
       "75%                              24.499402           9.659931e+05   \n",
       "max                              31.344754           1.074599e+06   \n",
       "\n",
       "       Total exports  \n",
       "count   1.000000e+01  \n",
       "mean    1.053825e+06  \n",
       "std     3.121004e+05  \n",
       "min     6.519520e+05  \n",
       "25%     7.804551e+05  \n",
       "50%     1.042456e+06  \n",
       "75%     1.346745e+06  \n",
       "max     1.456502e+06  "
      ]
     },
     "execution_count": 182,
     "metadata": {},
     "output_type": "execute_result"
    }
   ],
   "source": [
    "\n",
    "Trading_Oil_non_Oil.describe()"
   ]
  },
  {
   "cell_type": "markdown",
   "metadata": {},
   "source": [
    "2-\tAre the non-oil exports increasing? \n",
    "- Yes, from 2018\n",
    "- Mean= 201,706 \n",
    "- Since 2018, value has increased"
   ]
  },
  {
   "cell_type": "code",
   "execution_count": 230,
   "metadata": {},
   "outputs": [
    {
     "name": "stderr",
     "output_type": "stream",
     "text": [
      "/Library/Frameworks/Python.framework/Versions/3.8/lib/python3.8/site-packages/seaborn/_decorators.py:36: FutureWarning: Pass the following variables as keyword args: x, y. From version 0.12, the only valid positional argument will be `data`, and passing other arguments without an explicit keyword will result in an error or misinterpretation.\n",
      "/Library/Frameworks/Python.framework/Versions/3.8/lib/python3.8/site-packages/seaborn/_decorators.py:36: FutureWarning: Pass the following variables as keyword args: x, y. From version 0.12, the only valid positional argument will be `data`, and passing other arguments without an explicit keyword will result in an error or misinterpretation.\n"
     ]
    },
    {
     "data": {
      "image/png": "[encoded data removed]",
      "text/plain": [
       "<Figure size 432x288 with 1 Axes>"
      ]
     },
     "metadata": {},
     "output_type": "display_data"
    }
   ],
   "source": [
    "\n",
    "sns.scatterplot(Trading_Oil_non_Oil['Year'], Trading_Oil_non_Oil['Non-oil Exports Value(millions SAR)'])\n",
    "sns.lineplot(Trading_Oil_non_Oil['Year'], Trading_Oil_non_Oil['Non-oil Exports Value(millions SAR)'], color='red')\n",
    "plt.show()"
   ]
  },
  {
   "cell_type": "code",
   "execution_count": 222,
   "metadata": {},
   "outputs": [
    {
     "name": "stderr",
     "output_type": "stream",
     "text": [
      "/Library/Frameworks/Python.framework/Versions/3.8/lib/python3.8/site-packages/seaborn/_decorators.py:36: FutureWarning: Pass the following variables as keyword args: x, y. From version 0.12, the only valid positional argument will be `data`, and passing other arguments without an explicit keyword will result in an error or misinterpretation.\n"
     ]
    },
    {
     "data": {
      "image/png": "[encoded data removed]",
      "text/plain": [
       "<Figure size 504x432 with 1 Axes>"
      ]
     },
     "metadata": {},
     "output_type": "display_data"
    }
   ],
   "source": [
    "\n",
    "plt.style.use('seaborn-darkgrid')\n",
    "plt.figure(figsize = [7,6])\n",
    "sns.barplot(Trading_Oil_non_Oil['Year'] , Trading_Oil_non_Oil['Non-oil Exports Value(millions SAR)'])\n",
    "plt.xlabel('Year',fontsize= 15)\n",
    "plt.xticks(fontsize= 13)\n",
    "plt.yticks(fontsize= 13)\n",
    "plt.ylabel('Value in Millions SAR', fontsize= 15)\n",
    "plt.title(\"Non-oil exports from 2011 - 2020\",fontsize= 17 )\n",
    "plt.savefig('Plots/Non-oil exports from 2011 - 2020.png')\n",
    "plt.show()\n"
   ]
  },
  {
   "cell_type": "markdown",
   "metadata": {},
   "source": [
    "3-\tHow much is the effect of COVID-19 on the Saudi imports & export?"
   ]
  },
  {
   "cell_type": "code",
   "execution_count": null,
   "metadata": {},
   "outputs": [],
   "source": [
    "# any big drop/decrease in 2020 & 2021 compared to 2019? \n"
   ]
  },
  {
   "cell_type": "markdown",
   "metadata": {},
   "source": [
    "If yes, What are the main areas that got affected? "
   ]
  },
  {
   "cell_type": "code",
   "execution_count": null,
   "metadata": {},
   "outputs": [],
   "source": []
  },
  {
   "cell_type": "markdown",
   "metadata": {},
   "source": [
    "4-\tHow much did the Saudi import & export change from 2011 to 2020?"
   ]
  },
  {
   "cell_type": "code",
   "execution_count": null,
   "metadata": {},
   "outputs": [],
   "source": [
    "# sheet 1-3, compare imports vs exports"
   ]
  },
  {
   "cell_type": "markdown",
   "metadata": {},
   "source": [
    "6-\tWhat does Saudi export the most? Such as dates, cooking oil, used cars, used clothes?"
   ]
  },
  {
   "cell_type": "code",
   "execution_count": null,
   "metadata": {},
   "outputs": [],
   "source": [
    "# sheet 1.2\n",
    "# sheet 3-7\n"
   ]
  },
  {
   "cell_type": "markdown",
   "metadata": {},
   "source": [
    "7-\tWhat does Saudi import the most? Such as new cars, new clothes, medicine, medical equipment (Masks during covid), etc."
   ]
  },
  {
   "cell_type": "code",
   "execution_count": null,
   "metadata": {},
   "outputs": [],
   "source": [
    "# sheet 3-4\n",
    "# sheet 2-1"
   ]
  },
  {
   "cell_type": "markdown",
   "metadata": {},
   "source": [
    "8-\tHow much has Saudi been importing & exporting in petrochemicals, medicine, car parts, and vegetables?"
   ]
  },
  {
   "cell_type": "code",
   "execution_count": null,
   "metadata": {},
   "outputs": [],
   "source": [
    "# umm, answer after answering above questions"
   ]
  },
  {
   "cell_type": "markdown",
   "metadata": {},
   "source": [
    "9-\tWhat are the things that Saudi is planning to produce to lower their dependency on importing? military equipment, cars (electric), etc. "
   ]
  }
 ],
 "metadata": {
  "interpreter": {
   "hash": "aee8b7b246df8f9039afb4144a1f6fd8d2ca17a180786b69acc140d282b71a49"
  },
  "kernelspec": {
   "display_name": "Python 3.8.0 64-bit",
   "language": "python",
   "name": "python3"
  },
  "language_info": {
   "codemirror_mode": {
    "name": "ipython",
    "version": 3
   },
   "file_extension": ".py",
   "mimetype": "text/x-python",
   "name": "python",
   "nbconvert_exporter": "python",
   "pygments_lexer": "ipython3",
   "version": "3.8.0"
  },
  "orig_nbformat": 4
 },
 "nbformat": 4,
 "nbformat_minor": 2
}
