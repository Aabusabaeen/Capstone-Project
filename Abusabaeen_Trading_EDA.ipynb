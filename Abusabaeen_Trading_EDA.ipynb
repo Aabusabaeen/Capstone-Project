{
 "cells": [
  {
   "cell_type": "code",
   "execution_count": 1,
   "metadata": {},
   "outputs": [],
   "source": [
    "import numpy as np \n",
    "import pandas as pd\n",
    "import matplotlib.pyplot as plt\n",
    "import seaborn as sns"
   ]
  },
  {
   "cell_type": "code",
   "execution_count": 2,
   "metadata": {},
   "outputs": [],
   "source": [
    "Maersk= pd.read_csv('Abusabaen Trading/paidBillsAsCSV.csv')"
   ]
  },
  {
   "cell_type": "code",
   "execution_count": 3,
   "metadata": {},
   "outputs": [
    {
     "data": {
      "text/html": [
       "<div>\n",
       "<style scoped>\n",
       "    .dataframe tbody tr th:only-of-type {\n",
       "        vertical-align: middle;\n",
       "    }\n",
       "\n",
       "    .dataframe tbody tr th {\n",
       "        vertical-align: top;\n",
       "    }\n",
       "\n",
       "    .dataframe thead th {\n",
       "        text-align: right;\n",
       "    }\n",
       "</style>\n",
       "<table border=\"1\" class=\"dataframe\">\n",
       "  <thead>\n",
       "    <tr style=\"text-align: right;\">\n",
       "      <th></th>\n",
       "      <th></th>\n",
       "      <th></th>\n",
       "      <th>Paid Bill;\"Due On\";\"Billed Amount\";\"Already Paid\";\"Currency\";\"Status\";\"Payment Method\"</th>\n",
       "    </tr>\n",
       "  </thead>\n",
       "  <tbody>\n",
       "    <tr>\n",
       "      <th>969570290  EXPORT;\"Sep 9</th>\n",
       "      <th>2019\";4</th>\n",
       "      <th>850.00;4</th>\n",
       "      <td>850.00;\"SAR\";\"Processed\";\"Other&amp;#x20;Payments&amp;...</td>\n",
       "    </tr>\n",
       "    <tr>\n",
       "      <th>587807386  EXPORT;\"Nov 19</th>\n",
       "      <th>2019\";5</th>\n",
       "      <th>380.16;5</th>\n",
       "      <td>380.16;\"SAR\";\"Processed\";\"Other&amp;#x20;Payments&amp;...</td>\n",
       "    </tr>\n",
       "    <tr>\n",
       "      <th>969801300  EXPORT;\"Dec 3</th>\n",
       "      <th>2019\";188.00;188.00;\"SAR\";\"Processed\";\"Other&amp;#x20;Payments&amp;#x2f;Settlements\"</th>\n",
       "      <th>NaN</th>\n",
       "      <td>NaN</td>\n",
       "    </tr>\n",
       "    <tr>\n",
       "      <th>910416509  EXPORT;\"Apr 30</th>\n",
       "      <th>2020\";7</th>\n",
       "      <th>256.40;7</th>\n",
       "      <td>256.40;\"SAR\";\"Processed\";\"Other&amp;#x20;Payments&amp;...</td>\n",
       "    </tr>\n",
       "    <tr>\n",
       "      <th>910696758  EXPORT;\"May 19</th>\n",
       "      <th>2020\";9</th>\n",
       "      <th>425.92;9</th>\n",
       "      <td>425.92;\"SAR\";\"Processed\";\"Other&amp;#x20;Payments&amp;...</td>\n",
       "    </tr>\n",
       "    <tr>\n",
       "      <th>...</th>\n",
       "      <th>...</th>\n",
       "      <th>...</th>\n",
       "      <td>...</td>\n",
       "    </tr>\n",
       "    <tr>\n",
       "      <th rowspan=\"3\" valign=\"top\">SA00312091;\"Dec 23</th>\n",
       "      <th>2021\";-17</th>\n",
       "      <th>915.70;-17</th>\n",
       "      <td>915.70;\"SAR\";\"Processed\";\"Other&amp;#x20;Payments&amp;...</td>\n",
       "    </tr>\n",
       "    <tr>\n",
       "      <th rowspan=\"2\" valign=\"top\">2021\";-15</th>\n",
       "      <th>850.84;-15</th>\n",
       "      <td>850.84;\"SAR\";\"Processed\";\"Other&amp;#x20;Payments&amp;...</td>\n",
       "    </tr>\n",
       "    <tr>\n",
       "      <th>850.83;-15</th>\n",
       "      <td>850.83;\"SAR\";\"Processed\";\"Other&amp;#x20;Payments&amp;...</td>\n",
       "    </tr>\n",
       "    <tr>\n",
       "      <th>1KT334825  EXPORT;\"Jan 19</th>\n",
       "      <th>2022\";451.20;451.20;\"SAR\";\"Processed\";\"Other&amp;#x20;Payments&amp;#x2f;Settlements\"</th>\n",
       "      <th>NaN</th>\n",
       "      <td>NaN</td>\n",
       "    </tr>\n",
       "    <tr>\n",
       "      <th>216257624  EXPORT;\"Feb 10</th>\n",
       "      <th>2022\";6</th>\n",
       "      <th>094.56;6</th>\n",
       "      <td>094.56;\"SAR\";\"Processed\";\"Other&amp;#x20;Payments&amp;...</td>\n",
       "    </tr>\n",
       "  </tbody>\n",
       "</table>\n",
       "<p>332 rows × 1 columns</p>\n",
       "</div>"
      ],
      "text/plain": [
       "                                                                                        Paid Bill;\"Due On\";\"Billed Amount\";\"Already Paid\";\"Currency\";\"Status\";\"Payment Method\"\n",
       "969570290  EXPORT;\"Sep 9   2019\";4                                           850.00;4    850.00;\"SAR\";\"Processed\";\"Other&#x20;Payments&...                                    \n",
       "587807386  EXPORT;\"Nov 19  2019\";5                                           380.16;5    380.16;\"SAR\";\"Processed\";\"Other&#x20;Payments&...                                    \n",
       "969801300  EXPORT;\"Dec 3   2019\";188.00;188.00;\"SAR\";\"Processed\";\"Other&#... NaN                                                       NaN                                    \n",
       "910416509  EXPORT;\"Apr 30  2020\";7                                           256.40;7    256.40;\"SAR\";\"Processed\";\"Other&#x20;Payments&...                                    \n",
       "910696758  EXPORT;\"May 19  2020\";9                                           425.92;9    425.92;\"SAR\";\"Processed\";\"Other&#x20;Payments&...                                    \n",
       "...                                                                                                                                    ...                                    \n",
       "SA00312091;\"Dec 23         2021\";-17                                         915.70;-17  915.70;\"SAR\";\"Processed\";\"Other&#x20;Payments&...                                    \n",
       "                           2021\";-15                                         850.84;-15  850.84;\"SAR\";\"Processed\";\"Other&#x20;Payments&...                                    \n",
       "                                                                             850.83;-15  850.83;\"SAR\";\"Processed\";\"Other&#x20;Payments&...                                    \n",
       "1KT334825  EXPORT;\"Jan 19  2022\";451.20;451.20;\"SAR\";\"Processed\";\"Other&#... NaN                                                       NaN                                    \n",
       "216257624  EXPORT;\"Feb 10  2022\";6                                           094.56;6    094.56;\"SAR\";\"Processed\";\"Other&#x20;Payments&...                                    \n",
       "\n",
       "[332 rows x 1 columns]"
      ]
     },
     "execution_count": 3,
     "metadata": {},
     "output_type": "execute_result"
    }
   ],
   "source": [
    "Maersk"
   ]
  },
  {
   "cell_type": "code",
   "execution_count": 5,
   "metadata": {},
   "outputs": [],
   "source": [
    "CMA_CGM= pd.read_csv('Abusabaen Trading/shipments_list.csv')"
   ]
  }
 ],
 "metadata": {
  "interpreter": {
   "hash": "aee8b7b246df8f9039afb4144a1f6fd8d2ca17a180786b69acc140d282b71a49"
  },
  "kernelspec": {
   "display_name": "Python 3.8.0 64-bit",
   "language": "python",
   "name": "python3"
  },
  "language_info": {
   "codemirror_mode": {
    "name": "ipython",
    "version": 3
   },
   "file_extension": ".py",
   "mimetype": "text/x-python",
   "name": "python",
   "nbconvert_exporter": "python",
   "pygments_lexer": "ipython3",
   "version": "3.8.0"
  },
  "orig_nbformat": 4
 },
 "nbformat": 4,
 "nbformat_minor": 2
}
