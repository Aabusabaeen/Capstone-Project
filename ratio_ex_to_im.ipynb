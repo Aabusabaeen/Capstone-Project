{
 "cells": [
  {
   "cell_type": "code",
   "execution_count": 4,
   "metadata": {},
   "outputs": [],
   "source": [
    "import numpy as np \n",
    "import pandas as pd\n",
    "import matplotlib.pyplot as plt\n",
    "import seaborn as sns\n",
    "from plotnine import ggplot, aes, geom_density, geom_line, geom_point, ggtitle"
   ]
  },
  {
   "cell_type": "markdown",
   "metadata": {},
   "source": [
    "## Ratio of non-oil exports to imports "
   ]
  },
  {
   "cell_type": "code",
   "execution_count": 5,
   "metadata": {},
   "outputs": [],
   "source": [
    "ratio_ex_im= pd.read_csv('Cleaned_Data/Trading20_4_clean.csv')\n",
    "ratio_ex_im.drop('Unnamed: 0' axis=1, inplace=True)\n"
   ]
  },
  {
   "cell_type": "code",
   "execution_count": 18,
   "metadata": {},
   "outputs": [],
   "source": [
    "ratio_ex_im.drop('Imports (million SAR))', axis=1, inplace=True)"
   ]
  },
  {
   "cell_type": "code",
   "execution_count": 19,
   "metadata": {},
   "outputs": [
    {
     "data": {
      "text/html": [
       "<div>\n",
       "<style scoped>\n",
       "    .dataframe tbody tr th:only-of-type {\n",
       "        vertical-align: middle;\n",
       "    }\n",
       "\n",
       "    .dataframe tbody tr th {\n",
       "        vertical-align: top;\n",
       "    }\n",
       "\n",
       "    .dataframe thead th {\n",
       "        text-align: right;\n",
       "    }\n",
       "</style>\n",
       "<table border=\"1\" class=\"dataframe\">\n",
       "  <thead>\n",
       "    <tr style=\"text-align: right;\">\n",
       "      <th></th>\n",
       "      <th>Year</th>\n",
       "      <th>Exports (million SAR)</th>\n",
       "      <th>Imports (million SAR)</th>\n",
       "      <th>Ratio of Non-oil Exports to Imports %</th>\n",
       "    </tr>\n",
       "  </thead>\n",
       "  <tbody>\n",
       "    <tr>\n",
       "      <th>0</th>\n",
       "      <td>2011.0</td>\n",
       "      <td>176567.731649</td>\n",
       "      <td>493449.082585</td>\n",
       "      <td>35.782361</td>\n",
       "    </tr>\n",
       "    <tr>\n",
       "      <th>1</th>\n",
       "      <td>2012.0</td>\n",
       "      <td>190951.553513</td>\n",
       "      <td>583473.067875</td>\n",
       "      <td>32.726713</td>\n",
       "    </tr>\n",
       "    <tr>\n",
       "      <th>2</th>\n",
       "      <td>2013.0</td>\n",
       "      <td>202443.212959</td>\n",
       "      <td>630582.433092</td>\n",
       "      <td>32.104163</td>\n",
       "    </tr>\n",
       "    <tr>\n",
       "      <th>3</th>\n",
       "      <td>2014.0</td>\n",
       "      <td>217029.903583</td>\n",
       "      <td>651875.760674</td>\n",
       "      <td>33.293139</td>\n",
       "    </tr>\n",
       "    <tr>\n",
       "      <th>4</th>\n",
       "      <td>2015.0</td>\n",
       "      <td>189901.077563</td>\n",
       "      <td>655033.363532</td>\n",
       "      <td>28.991054</td>\n",
       "    </tr>\n",
       "    <tr>\n",
       "      <th>5</th>\n",
       "      <td>2016.0</td>\n",
       "      <td>177693.532214</td>\n",
       "      <td>525635.962804</td>\n",
       "      <td>33.805437</td>\n",
       "    </tr>\n",
       "    <tr>\n",
       "      <th>6</th>\n",
       "      <td>2017.0</td>\n",
       "      <td>193479.004472</td>\n",
       "      <td>504446.616737</td>\n",
       "      <td>38.354704</td>\n",
       "    </tr>\n",
       "    <tr>\n",
       "      <th>7</th>\n",
       "      <td>2018.0</td>\n",
       "      <td>235458.083665</td>\n",
       "      <td>513992.690199</td>\n",
       "      <td>45.809617</td>\n",
       "    </tr>\n",
       "    <tr>\n",
       "      <th>8</th>\n",
       "      <td>2019.0</td>\n",
       "      <td>229184.234637</td>\n",
       "      <td>574361.454604</td>\n",
       "      <td>39.902440</td>\n",
       "    </tr>\n",
       "    <tr>\n",
       "      <th>9</th>\n",
       "      <td>2020.0</td>\n",
       "      <td>204352.737425</td>\n",
       "      <td>517490.594270</td>\n",
       "      <td>39.489169</td>\n",
       "    </tr>\n",
       "    <tr>\n",
       "      <th>10</th>\n",
       "      <td>2021.0</td>\n",
       "      <td>274900.300000</td>\n",
       "      <td>578141.000000</td>\n",
       "      <td>47.549010</td>\n",
       "    </tr>\n",
       "  </tbody>\n",
       "</table>\n",
       "</div>"
      ],
      "text/plain": [
       "      Year  Exports (million SAR)  Imports (million SAR)  \\\n",
       "0   2011.0          176567.731649          493449.082585   \n",
       "1   2012.0          190951.553513          583473.067875   \n",
       "2   2013.0          202443.212959          630582.433092   \n",
       "3   2014.0          217029.903583          651875.760674   \n",
       "4   2015.0          189901.077563          655033.363532   \n",
       "5   2016.0          177693.532214          525635.962804   \n",
       "6   2017.0          193479.004472          504446.616737   \n",
       "7   2018.0          235458.083665          513992.690199   \n",
       "8   2019.0          229184.234637          574361.454604   \n",
       "9   2020.0          204352.737425          517490.594270   \n",
       "10  2021.0          274900.300000          578141.000000   \n",
       "\n",
       "    Ratio of Non-oil Exports to Imports %  \n",
       "0                               35.782361  \n",
       "1                               32.726713  \n",
       "2                               32.104163  \n",
       "3                               33.293139  \n",
       "4                               28.991054  \n",
       "5                               33.805437  \n",
       "6                               38.354704  \n",
       "7                               45.809617  \n",
       "8                               39.902440  \n",
       "9                               39.489169  \n",
       "10                              47.549010  "
      ]
     },
     "execution_count": 19,
     "metadata": {},
     "output_type": "execute_result"
    }
   ],
   "source": [
    "ratio_ex_im"
   ]
  },
  {
   "cell_type": "code",
   "execution_count": 47,
   "metadata": {},
   "outputs": [
    {
     "data": {
      "text/plain": [
       "6228482.026372001"
      ]
     },
     "execution_count": 47,
     "metadata": {},
     "output_type": "execute_result"
    }
   ],
   "source": [
    "ratio_ex_im['Imports (million SAR)'].sum()"
   ]
  },
  {
   "cell_type": "code",
   "execution_count": 20,
   "metadata": {},
   "outputs": [],
   "source": [
    "ratio_ex_im.loc[10,'Imports (million SAR)'] = 578141\n",
    "ratio_ex_im.loc[10,'Year'] = 2021\n",
    "ratio_ex_im.loc[10,'Exports (million SAR)'] = 274900.300\n",
    "ratio_ex_im.loc[10,'Ratio of Non-oil Exports to Imports %'] = 47.54901"
   ]
  },
  {
   "cell_type": "code",
   "execution_count": 8,
   "metadata": {},
   "outputs": [],
   "source": [
    "ratio_ex_im['Year'] = ratio_ex_im['Year'].astype(int)\n",
    "ratio_ex_im['Exports (million SAR)'] = ratio_ex_im['Exports (million SAR)'].astype(float)\n",
    "ratio_ex_im['Imports (million SAR))'] = ratio_ex_im['Imports (million SAR)'].astype(float)"
   ]
  },
  {
   "cell_type": "code",
   "execution_count": 46,
   "metadata": {},
   "outputs": [
    {
     "data": {
      "image/png": "[encoded data removed]",
      "text/plain": [
       "<Figure size 504x288 with 1 Axes>"
      ]
     },
     "metadata": {},
     "output_type": "display_data"
    }
   ],
   "source": [
    "plt.style.use('seaborn-darkgrid')\n",
    "plt.figure(figsize=[7,4])\n",
    "plt.scatter(ratio_ex_im['Year'], ratio_ex_im['Imports (million SAR)'])\n",
    "plt.plot(ratio_ex_im['Year'], ratio_ex_im['Imports (million SAR)'], c = 'red')\n",
    "plt.title('Imports from 2011 - 2021', fontsize= 15)\n",
    "plt.xlabel('Year', fontsize=13)\n",
    "plt.ylabel('Value in million SAR', fontsize=13)\n",
    "plt.xticks(np.arange(2011, 2022, 1), fontsize= 13, rotation=45)\n",
    "plt.savefig('Plots/Imports from 2011-2021')\n",
    "plt.show()\n"
   ]
  },
  {
   "cell_type": "code",
   "execution_count": 21,
   "metadata": {},
   "outputs": [],
   "source": [
    "ratio_ex_im.to_csv('Cleaned_Data/Trading20_4_clean.csv')"
   ]
  }
 ],
 "metadata": {
  "interpreter": {
   "hash": "aee8b7b246df8f9039afb4144a1f6fd8d2ca17a180786b69acc140d282b71a49"
  },
  "kernelspec": {
   "display_name": "Python 3.8.0 64-bit",
   "language": "python",
   "name": "python3"
  },
  "language_info": {
   "codemirror_mode": {
    "name": "ipython",
    "version": 3
   },
   "file_extension": ".py",
   "mimetype": "text/x-python",
   "name": "python",
   "nbconvert_exporter": "python",
   "pygments_lexer": "ipython3",
   "version": "3.8.0"
  },
  "orig_nbformat": 4
 },
 "nbformat": 4,
 "nbformat_minor": 2
}
