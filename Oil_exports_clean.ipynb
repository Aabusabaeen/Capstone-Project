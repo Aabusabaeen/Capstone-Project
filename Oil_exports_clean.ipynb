{
 "cells": [
  {
   "cell_type": "code",
   "execution_count": null,
   "metadata": {},
   "outputs": [],
   "source": [
    "import numpy as np \n",
    "import pandas as pd\n",
    "import matplotlib.pyplot as plt\n",
    "import seaborn as sns\n",
    "from plotnine import ggplot, aes, geom_density, geom_line, geom_point, ggtitle"
   ]
  },
  {
   "cell_type": "markdown",
   "metadata": {},
   "source": [
    "### Add them all, then compare it with Trading2020 sheet 1-1"
   ]
  },
  {
   "cell_type": "markdown",
   "metadata": {},
   "source": [
    "## 2020"
   ]
  },
  {
   "cell_type": "code",
   "execution_count": null,
   "metadata": {},
   "outputs": [],
   "source": [
    "Exports_commodityGroup20 = pd.read_csv('Cleaned_data/Trading2020_3-7_clean.csv')\n",
    "Exports_commodityGroup20.drop('Unnamed: 0', axis=1, inplace= True)"
   ]
  },
  {
   "cell_type": "code",
   "execution_count": null,
   "metadata": {},
   "outputs": [],
   "source": [
    "Exports_commodityGroup20"
   ]
  },
  {
   "cell_type": "code",
   "execution_count": null,
   "metadata": {},
   "outputs": [],
   "source": [
    "tot_oil_ex_20 = Exports_commodityGroup20[Exports_commodityGroup20.Commodity.isin(['CRUDE PETROLEUM OILS'])]\n",
    "tot_oil_ex_20"
   ]
  },
  {
   "cell_type": "markdown",
   "metadata": {},
   "source": [
    "## 2019"
   ]
  },
  {
   "cell_type": "code",
   "execution_count": null,
   "metadata": {},
   "outputs": [],
   "source": [
    "Exports_commodityGroup19= pd.read_csv('Cleaned_data/ft_exports_2019_clean.csv')"
   ]
  },
  {
   "cell_type": "code",
   "execution_count": null,
   "metadata": {},
   "outputs": [],
   "source": [
    "Exports_commodityGroup19"
   ]
  },
  {
   "cell_type": "code",
   "execution_count": null,
   "metadata": {},
   "outputs": [],
   "source": [
    "tot_oil_ex_19 = Exports_commodityGroup19[Exports_commodityGroup19.Commodity.isin(['CRUDE PETROLEUM OILS'])]\n",
    "tot_oil_ex_19"
   ]
  },
  {
   "cell_type": "markdown",
   "metadata": {},
   "source": [
    "## 2018"
   ]
  },
  {
   "cell_type": "code",
   "execution_count": null,
   "metadata": {},
   "outputs": [],
   "source": [
    "Exports_commodityGroup18= pd.read_csv('Cleaned_data/ft_exports_2018_clean.csv')"
   ]
  },
  {
   "cell_type": "code",
   "execution_count": null,
   "metadata": {},
   "outputs": [],
   "source": [
    "tot_oil_ex_18 = Exports_commodityGroup18[Exports_commodityGroup18.Commodity.isin(['CRUDE PETROLEUM OILS'])]\n",
    "tot_oil_ex_18"
   ]
  },
  {
   "cell_type": "markdown",
   "metadata": {},
   "source": [
    "## 2017"
   ]
  },
  {
   "cell_type": "code",
   "execution_count": null,
   "metadata": {},
   "outputs": [],
   "source": [
    "Exports_commodityGroup17= pd.read_csv('Cleaned_data/ft_exports_2017_clean.csv')"
   ]
  },
  {
   "cell_type": "code",
   "execution_count": null,
   "metadata": {},
   "outputs": [],
   "source": [
    "tot_oil_ex_17 = Exports_commodityGroup17[Exports_commodityGroup17.Commodity.isin(['CRUDE PETROLEUM OILS'])]\n",
    "tot_oil_ex_17"
   ]
  },
  {
   "cell_type": "markdown",
   "metadata": {},
   "source": [
    "## 2016"
   ]
  },
  {
   "cell_type": "code",
   "execution_count": null,
   "metadata": {},
   "outputs": [],
   "source": [
    "Exports_commodityGroup16= pd.read_csv('Cleaned_data/ft_exports_2016_clean.csv')"
   ]
  },
  {
   "cell_type": "code",
   "execution_count": null,
   "metadata": {},
   "outputs": [],
   "source": [
    "tot_oil_ex_16 = Exports_commodityGroup16[Exports_commodityGroup16.Commodity.isin(['CRUDE PETROLEUM OILS'])]\n",
    "tot_oil_ex_16"
   ]
  },
  {
   "cell_type": "markdown",
   "metadata": {},
   "source": [
    "## 2015"
   ]
  },
  {
   "cell_type": "code",
   "execution_count": null,
   "metadata": {},
   "outputs": [],
   "source": [
    "Exports_commodityGroup15 = pd.read_csv('Cleaned_data/ft_exports_2015_clean.csv')"
   ]
  },
  {
   "cell_type": "code",
   "execution_count": null,
   "metadata": {},
   "outputs": [],
   "source": [
    "tot_oil_ex_15 = Exports_commodityGroup15[Exports_commodityGroup15.Commodity.isin(['CRUDE PETROLEUM OILS'])]\n",
    "tot_oil_ex_15\n",
    "# fix weight to be in 1000 Tons"
   ]
  },
  {
   "cell_type": "markdown",
   "metadata": {},
   "source": [
    "## 2014"
   ]
  },
  {
   "cell_type": "code",
   "execution_count": null,
   "metadata": {},
   "outputs": [],
   "source": [
    "Exports_commodityGroup14= pd.read_csv('Cleaned_data/ft_exports_2014_clean.csv')"
   ]
  },
  {
   "cell_type": "code",
   "execution_count": null,
   "metadata": {},
   "outputs": [],
   "source": [
    "tot_oil_ex_14 = Exports_commodityGroup14[Exports_commodityGroup14.Commodity.isin(['CRUDE PETROLEUM OILS'])]\n",
    "tot_oil_ex_14\n",
    "# fix weight to be in 1000 Tons"
   ]
  },
  {
   "cell_type": "markdown",
   "metadata": {},
   "source": [
    "## 2013"
   ]
  },
  {
   "cell_type": "code",
   "execution_count": null,
   "metadata": {},
   "outputs": [],
   "source": [
    "Exports_commodityGroup13= pd.read_csv('Cleaned_data/ft_exports_2013_clean.csv')"
   ]
  },
  {
   "cell_type": "code",
   "execution_count": null,
   "metadata": {},
   "outputs": [],
   "source": [
    "tot_oil_ex_13 = Exports_commodityGroup13[Exports_commodityGroup13.Commodity.isin(['CRUDE PETROLEUM OILS'])]\n",
    "tot_oil_ex_13\n",
    "# fix weight to be in 1000 Tons"
   ]
  }
 ],
 "metadata": {
  "language_info": {
   "name": "python"
  },
  "orig_nbformat": 4
 },
 "nbformat": 4,
 "nbformat_minor": 2
}
