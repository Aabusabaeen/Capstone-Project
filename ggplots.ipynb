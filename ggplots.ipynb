{
 "cells": [
  {
   "cell_type": "code",
   "execution_count": null,
   "metadata": {},
   "outputs": [],
   "source": [
    "from plotnine.data import economics\n",
    "from plotnine import ggplot, aes, geom_line, geom_bar\n",
    "\n",
    "(\n",
    "    ggplot(Trading_Oil_non_Oil)  # What data to use\n",
    "    + aes(x=\"Year\", y=\"Oil Percentage of Total Exports\")  # What variable to use\n",
    "    + geom_line(data= Trading_Oil_non_Oil)  # Geometric object to use for drawing\n",
    ")\n",
    "\n",
    "ggplot(Trading_Oil_non_Oil) + aes(x=\"Year\") + geom_bar()"
   ]
  }
 ],
 "metadata": {
  "language_info": {
   "name": "python"
  },
  "orig_nbformat": 4
 },
 "nbformat": 4,
 "nbformat_minor": 2
}
